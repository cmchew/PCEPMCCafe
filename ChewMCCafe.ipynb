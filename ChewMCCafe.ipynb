{
 "cells": [
  {
   "cell_type": "code",
   "execution_count": null,
   "metadata": {},
   "outputs": [],
   "source": [
    "### Chew MC CAFE\n",
    "\n",
    "# When your program first starts, you must greet the customers by saying, \"Welcome to MC Cafe!\" Then ask the customer if they would like to see the menu. If yes, then display the menu items and prices.\n",
    "\n",
    "# Then ask the user if they would like to order. If yes, then prompt the customer to enter an item and the quantity that they want. After they input an item, then ask them if they would like to order another item.\n",
    "\n",
    "# Once your customers are finished with the order input, then display an order receipt that lists the items that they ordered and the quantity. Then at the bottom of the receipt, display the subtotal (the amount of the item before tax), the amount in sales tax (our business is in Maryland, so state tax is 6%), and finally their grand total (subtotal plus sales tax).\n",
    "\n",
    "# At the end of their transaction, display a message to our customers saying, \"Thank you for visiting MC Cafe!\"\n",
    "\n",
    "# BONUS: Add a feature that tells a customer when an item they attempted to order is not on the menu."
   ]
  },
  {
   "cell_type": "code",
   "execution_count": null,
   "metadata": {},
   "outputs": [],
   "source": [
    "# Welcome to MC Cafe!\n",
    "\n",
    "# Would you like to see the menu?\n",
    "\n",
    "# If yes print menu and prices\n",
    "\n",
    "# Would you lke to order?\n",
    "\n",
    "# Enter an item\n",
    "\n",
    "# Enter the quantity\n",
    "\n",
    "# Would you like to order again?\n",
    "\n",
    "# Print receipt with item and quantity\n",
    "\n",
    "# Print subtotal\n",
    "\n",
    "# Print tax\n",
    "\n",
    "# Print grand total\n",
    "\n",
    "# Print thank you for visiting MC Cafe!\n",
    "\n"
   ]
  },
  {
   "cell_type": "code",
   "execution_count": 5,
   "metadata": {},
   "outputs": [],
   "source": [
    "# initialize dictionary\n",
    "\n",
    "coffee = {\"Espresso\" : \"$1.50\", \"Americano\" : \"2.00\", \"Caffe Latte\" : \"$2.25\", \n",
    "          \"Mocha\" : \"$2.25\", \"Cappucino\" : \"$2.50\", \"Macchiato\" : \"2.50\"}\n",
    "\n",
    "\n",
    "tea = {\"White tea\" : \"$1.50\", \"Green tea\" : \"$2.00\", \"Oolong tea\" : \"$2.25\", \n",
    "       \"Black tea\" : \"$2.25\", \"Earl Grey\" : \"$2.50\", \"Matcha\" : \"$2.50\"}\n",
    "\n",
    "pastries = {\"Croissant\" : \"$5.50\", \"Cinnamon roll\" : \"$4.50\", \"Banana bread\" : \"$4.25\", \n",
    "            \"Pumpkin bread\" : \"$3.75\", \"Sticky bun\" : \"$4.25\", \"Apple turnover\" : \"$3.75\"}\n",
    "\n",
    "# menu = coffee + tea + pastries can I create a list of dictionaries?\n",
    "     "
   ]
  },
  {
   "cell_type": "code",
   "execution_count": null,
   "metadata": {},
   "outputs": [
    {
     "name": "stdout",
     "output_type": "stream",
     "text": [
      "What would you like to order?Croissant\n",
      "Excellent choice! How many would you like?: 1\n"
     ]
    }
   ],
   "source": [
    "greet1 = \"Welcome to MC Cafe!\"\n",
    "greet2 = \"Would you like to see a menu?\"\n",
    "greet3 = \"Would you like to order?\" # yes, no if yes ask for an item and a quantity. break and go to greet5\n",
    "greet4 = \"Would you like something else?\"\n",
    "greet5 = \"Thank you for visiting MC Cafe!\"\n",
    "\n",
    "\n",
    "\n",
    "cafeorder = [] # create empty list and append to list as customer adds items.\n",
    "\n",
    "\n",
    "cafeorder.append(input(\"What would you like to order?\"))   \n",
    "quantity = int(input(\"Excellent choice! How many would you like?: \"))\n",
    "\n",
    "cafeorder.append(input(\"Excellent choice! Would you like anything else?\"))   #if yes then loop. if no go to total \n",
    "\n",
    "                    \n",
    "                       \n",
    "\n",
    "# create a function to calculate tax, connect the cafeorder to menu in dictionary list to capture the prices\n",
    "\n",
    "\n",
    "salestax = .06\n",
    "\n",
    "total = cafeorder + salestax\n",
    "\n",
    "def salestax():\n",
    "  cafeorder = float(input('Enter the price of the purchase: '))\n",
    "  totals(cafeorder)\n",
    "\n",
    "    \n",
    "    \n",
    "    \n",
    "# create a fuction to calculate total\n",
    "\n",
    "def calculate(cafeorder):\n",
    "  salestax = purchase * .06 \n",
    "  total = purchase + salestax    \n",
    "\n",
    "#item = str(input(\"What would you like to order?\")) # add customer items to a list, use append to list to add more items. \n",
    "#quantity = int(input(\"Excellent choice! How many would you like?: \"))\n",
    "\n",
    "item2= str(input(\"What would you like anything else?\")) # yes, no, if no print item, print quantity\n",
    "\n",
    "append\n",
    "\n",
    "cafeorder = item + item2 # create if then statement if only one item ordered\n",
    "\n",
    "print(greet1)\n",
    "print(greet2)\n",
    "print(coffee)\n",
    "print(tea)\n",
    "print(pastries)\n",
    "\n",
    "print(greet3)\n",
    "#(str)input\n",
    "#int)input\n",
    "\n",
    "print(item)\n",
    "print(quantity)\n",
    "print(subtotal)\n",
    "print(tax)\n",
    "print(grandtotal)\n",
    "\n",
    "print(greet5)"
   ]
  },
  {
   "cell_type": "code",
   "execution_count": null,
   "metadata": {},
   "outputs": [],
   "source": []
  },
  {
   "cell_type": "code",
   "execution_count": null,
   "metadata": {},
   "outputs": [],
   "source": []
  }
 ],
 "metadata": {
  "kernelspec": {
   "display_name": "Python 3 (ipykernel)",
   "language": "python",
   "name": "python3"
  },
  "language_info": {
   "codemirror_mode": {
    "name": "ipython",
    "version": 3
   },
   "file_extension": ".py",
   "mimetype": "text/x-python",
   "name": "python",
   "nbconvert_exporter": "python",
   "pygments_lexer": "ipython3",
   "version": "3.9.12"
  }
 },
 "nbformat": 4,
 "nbformat_minor": 2
}
